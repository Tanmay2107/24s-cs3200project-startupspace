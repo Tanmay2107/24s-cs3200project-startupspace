{
  "nbformat": 4,
  "nbformat_minor": 0,
  "metadata": {
    "colab": {
      "name": "term-statistics.ipynb",
      "provenance": [],
      "include_colab_link": true
    },
    "kernelspec": {
      "name": "python3",
      "display_name": "Python 3"
    },
    "language_info": {
      "name": "python"
    }
  },
  "cells": [
    {
      "cell_type": "markdown",
      "metadata": {
        "id": "view-in-github",
        "colab_type": "text"
      },
      "source": [
        "<a href=\"https://colab.research.google.com/github/Tanmay2107/24s-cs3200project-startupspace/blob/main/term_statistics.ipynb\" target=\"_parent\"><img src=\"https://colab.research.google.com/assets/colab-badge.svg\" alt=\"Open In Colab\"/></a>"
      ]
    },
    {
      "cell_type": "markdown",
      "metadata": {
        "id": "2yYCQrU0J5C5"
      },
      "source": [
        "# Working with Terms and Documents\n",
        "\n",
        "This exercise starts off with term statistics computations and graphing. In the final section (for CS6200 students), you collect new documents to experiment with.\n",
        "\n",
        "Read through this Jupyter notebook and fill in the parts marked with `TODO`."
      ]
    },
    {
      "cell_type": "markdown",
      "metadata": {
        "id": "tA4bCPS1MmAx"
      },
      "source": [
        "## Sample Data\n",
        "\n",
        "Start by looking at some sample data. We donwload the counts of terms in documents for the first one million tokens of a newswire collection."
      ]
    },
    {
      "cell_type": "code",
      "metadata": {
        "id": "W-IMINS4IFUg",
        "outputId": "88398c4e-f73d-4f06-95f1-2d9c6c09a9d3",
        "colab": {
          "base_uri": "https://localhost:8080/"
        }
      },
      "source": [
        "!wget -O ap201001.json.gz https://github.com/dasmiq/cs6200-documents/blob/main/ap201001.json.gz?raw=true\n",
        "!gunzip ap201001.json.gz"
      ],
      "execution_count": 2,
      "outputs": [
        {
          "output_type": "stream",
          "name": "stdout",
          "text": [
            "--2025-01-30 07:33:34--  https://github.com/dasmiq/cs6200-documents/blob/main/ap201001.json.gz?raw=true\n",
            "Resolving github.com (github.com)... 140.82.113.3\n",
            "Connecting to github.com (github.com)|140.82.113.3|:443... connected.\n",
            "HTTP request sent, awaiting response... 302 Found\n",
            "Location: https://github.com/dasmiq/cs6200-documents/raw/refs/heads/main/ap201001.json.gz [following]\n",
            "--2025-01-30 07:33:34--  https://github.com/dasmiq/cs6200-documents/raw/refs/heads/main/ap201001.json.gz\n",
            "Reusing existing connection to github.com:443.\n",
            "HTTP request sent, awaiting response... 302 Found\n",
            "Location: https://raw.githubusercontent.com/dasmiq/cs6200-documents/refs/heads/main/ap201001.json.gz [following]\n",
            "--2025-01-30 07:33:35--  https://raw.githubusercontent.com/dasmiq/cs6200-documents/refs/heads/main/ap201001.json.gz\n",
            "Resolving raw.githubusercontent.com (raw.githubusercontent.com)... 185.199.111.133, 185.199.110.133, 185.199.108.133, ...\n",
            "Connecting to raw.githubusercontent.com (raw.githubusercontent.com)|185.199.111.133|:443... connected.\n",
            "HTTP request sent, awaiting response... 200 OK\n",
            "Length: 2854711 (2.7M) [application/octet-stream]\n",
            "Saving to: ‘ap201001.json.gz’\n",
            "\n",
            "ap201001.json.gz    100%[===================>]   2.72M  --.-KB/s    in 0.07s   \n",
            "\n",
            "2025-01-30 07:33:35 (36.4 MB/s) - ‘ap201001.json.gz’ saved [2854711/2854711]\n",
            "\n"
          ]
        }
      ]
    },
    {
      "cell_type": "markdown",
      "metadata": {
        "id": "_SEFjGZvM4lY"
      },
      "source": [
        "We convert this file with one JSON record on each line to a list of dictionaries."
      ]
    },
    {
      "cell_type": "code",
      "metadata": {
        "id": "6CrLD5SOIMz1"
      },
      "source": [
        "import json\n",
        "rawfile = open('ap201001.json')\n",
        "terms = [json.loads(line) for line in rawfile]"
      ],
      "execution_count": 3,
      "outputs": []
    },
    {
      "cell_type": "markdown",
      "metadata": {
        "id": "Rg4P9XJJM_lZ"
      },
      "source": [
        "Here are the first ten records, showing the count of each term for each document and field. In this dataset, field only takes the values `body` or `title`."
      ]
    },
    {
      "cell_type": "code",
      "metadata": {
        "colab": {
          "base_uri": "https://localhost:8080/"
        },
        "id": "g8GdOuyzI0wm",
        "outputId": "ef49b3e8-4fad-4273-cbe8-d891a6bcbc41"
      },
      "source": [
        "terms[1:10]"
      ],
      "execution_count": 4,
      "outputs": [
        {
          "output_type": "execute_result",
          "data": {
            "text/plain": [
              "[{'id': 'APW_ENG_20100101.0001', 'field': 'body', 'term': 'about', 'count': 1},\n",
              " {'id': 'APW_ENG_20100101.0001', 'field': 'body', 'term': 'abuse', 'count': 1},\n",
              " {'id': 'APW_ENG_20100101.0001',\n",
              "  'field': 'body',\n",
              "  'term': 'academy',\n",
              "  'count': 1},\n",
              " {'id': 'APW_ENG_20100101.0001',\n",
              "  'field': 'body',\n",
              "  'term': 'accused',\n",
              "  'count': 2},\n",
              " {'id': 'APW_ENG_20100101.0001',\n",
              "  'field': 'body',\n",
              "  'term': 'actress',\n",
              "  'count': 1},\n",
              " {'id': 'APW_ENG_20100101.0001', 'field': 'body', 'term': 'ad', 'count': 1},\n",
              " {'id': 'APW_ENG_20100101.0001', 'field': 'body', 'term': 'after', 'count': 1},\n",
              " {'id': 'APW_ENG_20100101.0001',\n",
              "  'field': 'body',\n",
              "  'term': 'agenda',\n",
              "  'count': 1},\n",
              " {'id': 'APW_ENG_20100101.0001',\n",
              "  'field': 'body',\n",
              "  'term': 'agreed',\n",
              "  'count': 1}]"
            ]
          },
          "metadata": {},
          "execution_count": 4
        }
      ]
    },
    {
      "cell_type": "markdown",
      "metadata": {
        "id": "q-CjFLXH3BJg"
      },
      "source": [
        "Each record has four fields:\n",
        "* `id`, with the identifier for the document;\n",
        "* `field`, with the region of the document containing a given term;\n",
        "* `term`, with the lower-cased term; and\n",
        "* `count`, with the number of times each term occurred in that field and document."
      ]
    },
    {
      "cell_type": "markdown",
      "metadata": {
        "id": "2H5yBvEVNUPr"
      },
      "source": [
        "## Computing Term Statistics\n"
      ]
    },
    {
      "cell_type": "markdown",
      "metadata": {
        "id": "qhDt23kKv0Uy"
      },
      "source": [
        "If we look at the most frequent terms for a given document, we mostly see common function words, such as `the`, `and`, and `of`. Start exploring the dataset by computing some of these basic term statistics. You can make your life easier using data frame libraries such as `pandas`, core python libraries such as `collections`, or just simple list comprehensions.\n",
        "\n",
        "Feel free to define helper functions in your code before computing the statistics we're looking for."
      ]
    },
    {
      "cell_type": "code",
      "metadata": {
        "id": "2Zy5qR562nZ5",
        "outputId": "d6273032-66b1-49c0-8280-9e3f02d55a12",
        "colab": {
          "base_uri": "https://localhost:8080/"
        }
      },
      "source": [
        "# TODO: Print the 10 terms from document APW_ENG_20100101.0001 with the highest count.\n",
        "#importing pandas\n",
        "import pandas as pd\n",
        "\n",
        "#converting terms into a data frame for easier analysis\n",
        "termsdf = pd.DataFrame(terms)\n",
        "\n",
        "#filterijg to the terms of the required document\n",
        "relevantdf = termsdf[termsdf['id'] == 'APW_ENG_20100101.0001']\n",
        "\n",
        "#sorting to get the 10 highest counts\n",
        "top10relevant = relevantdf.sort_values(by=['count'], ascending=False)[0:10]\n",
        "\n",
        "#printing the top 10 terms as required\n",
        "for term in top10relevant['term']:\n",
        "  print(term)\n"
      ],
      "execution_count": 36,
      "outputs": [
        {
          "output_type": "stream",
          "name": "stdout",
          "text": [
            "a\n",
            "the\n",
            "of\n",
            "to\n",
            "brooks\n",
            "and\n",
            "in\n",
            "he\n",
            "gomez\n",
            "said\n"
          ]
        }
      ]
    },
    {
      "cell_type": "code",
      "source": [],
      "metadata": {
        "id": "8OKFBDWxP2yB"
      },
      "execution_count": null,
      "outputs": []
    },
    {
      "cell_type": "code",
      "metadata": {
        "id": "U7OwCo0w5R1q",
        "outputId": "07fc3e46-bb09-4f93-aa91-bde3d192f0bc",
        "colab": {
          "base_uri": "https://localhost:8080/"
        }
      },
      "source": [
        "# TODO: Print the 10 terms with the highest total count in the corpus.\n",
        "\n",
        "#first we need can get rid of id and field since this is for the full corpus\n",
        "# and we only care about term and count\n",
        "termsdfwithoutid = termsdf.drop(columns=['id','field'])\n",
        "\n",
        "#group each record by term hence we want to see the total count\n",
        "groupedterms = termsdfwithoutid.groupby('term', as_index=False)[\"count\"].sum()\n",
        "\n",
        "\n",
        "#sorting to get the 10 highest counts of the grouped terms\n",
        "top10grouped = groupedterms.sort_values(by=['count'], ascending=False)[0:10]\n",
        "\n",
        "#printing top 10 terms with highest total count\n",
        "for term in top10grouped['term']:\n",
        "  print(term)\n",
        "\n"
      ],
      "execution_count": 35,
      "outputs": [
        {
          "output_type": "stream",
          "name": "stdout",
          "text": [
            "the\n",
            "to\n",
            "in\n",
            "a\n",
            "of\n",
            "and\n",
            "said\n",
            "for\n",
            "on\n",
            "that\n"
          ]
        }
      ]
    },
    {
      "cell_type": "markdown",
      "metadata": {
        "id": "dnNEUACW23Dd"
      },
      "source": [
        "Raw counts may not be the most informative statistic. One common improvement is to use *inverse document frequency*, the inverse of the proportion of documents that contain a given term."
      ]
    },
    {
      "cell_type": "code",
      "metadata": {
        "id": "uiUA502P2QkH",
        "outputId": "65011aab-11c5-407d-a983-af133f69d83c",
        "colab": {
          "base_uri": "https://localhost:8080/",
          "height": 1000
        }
      },
      "source": [
        "# TODO: Compute the number of distinct documents in the collection.\n",
        "\n",
        "#using nunique to get number of distinct values\n",
        "num_unique_documents = termsdf['id'].nunique()\n",
        "print(num_unique_documents)\n",
        "\n",
        "N = num_unique_documents\n",
        "\n",
        "# TODO: Compute the number of distinct documents each term appears in\n",
        "# and store in a dictionary.\n",
        "df = dict()\n",
        "\n",
        "for term in groupedterms['term']:\n",
        "  allfiledsforterm = termsdf[termsdf['term'] == term]\n",
        "  uniquedocs = allfiledsforterm['id'].nunique()\n",
        "  df[term] = uniquedocs\n",
        "\n",
        "\n",
        "\n",
        "# TODO: Compute the inverse document frequency for each term.\n",
        "\n",
        "#dictionary that contains idfs\n",
        "idfdict = dict()\n",
        "\n",
        "import math\n",
        "\n",
        "for term in df:\n",
        "  idf[term] = math.log(N/df[term])"
      ],
      "execution_count": 39,
      "outputs": [
        {
          "output_type": "stream",
          "name": "stdout",
          "text": [
            "2778\n",
            "a\n",
            "aaaar\n",
            "aafter\n",
            "aamir\n",
            "aardvarks\n",
            "aare\n",
            "aarhus\n",
            "aaron\n",
            "ab\n",
            "ababa\n",
            "abalone\n",
            "abandon\n",
            "abandoned\n",
            "abandoning\n",
            "abb\n",
            "abbas\n",
            "abbleby\n",
            "abbot\n",
            "abbott\n",
            "abc\n",
            "abc's\n",
            "abdel\n",
            "abdellah\n",
            "abdi\n",
            "abdirahman\n",
            "abdolhossein\n",
            "abdomen\n",
            "abdominal\n",
            "abdou\n",
            "abdoulay\n",
            "abdoulaye\n",
            "abducted\n",
            "abducting\n",
            "abductions\n",
            "abdul\n",
            "abdulahi\n",
            "abdulatif\n",
            "abdulla\n",
            "abdullah\n",
            "abdullahi\n",
            "abdulle\n",
            "abdulmutallab\n",
            "abdulmutallab's\n",
            "abdulmuttalab\n",
            "abdulzai\n",
            "abdur\n",
            "abe\n",
            "abel\n",
            "abercrombie\n",
            "aberdeen\n",
            "aberdeen's\n",
            "abeyance\n",
            "abhisit\n",
            "abide\n",
            "abiding\n",
            "abigail\n",
            "abilities\n",
            "ability\n",
            "ablaze\n",
            "able\n",
            "abn\n",
            "abnormality\n",
            "aboard\n",
            "abolish\n",
            "abolished\n",
            "abolition\n",
            "abort\n",
            "aborted\n",
            "abortion\n",
            "abortions\n",
            "abou\n",
            "aboul\n",
            "aboulafia\n",
            "abounds\n",
            "about\n",
            "above\n",
            "abraham\n",
            "abrahamson\n",
            "abramovich\n",
            "abreu\n",
            "abroad\n",
            "abrogate\n",
            "abrupt\n",
            "abruptly\n",
            "abruscato\n",
            "abscesses\n",
            "absence\n",
            "absences\n",
            "absent\n",
            "absentia\n",
            "absolute\n",
            "absolutely\n",
            "absorb\n",
            "absorbed\n",
            "absorbing\n",
            "absorbs\n",
            "abstract\n",
            "absurd\n",
            "abu\n",
            "abubakar\n",
            "abudema\n",
            "abudema's\n",
            "abudllah\n",
            "abuhatzeira\n",
            "abuhatzeira's\n",
            "abuja\n",
            "abundance\n",
            "abuse\n",
            "abused\n",
            "abuser\n",
            "abuses\n",
            "abusing\n",
            "abusive\n",
            "abuts\n",
            "abuzz\n",
            "abyan\n",
            "abysmal\n",
            "ac\n",
            "academic\n",
            "academics\n",
            "academy\n",
            "academy's\n",
            "accelerate\n",
            "accelerated\n",
            "accelerating\n",
            "accelerative\n",
            "accelerator\n",
            "accelerometers\n",
            "accent\n",
            "accents\n",
            "accenture\n",
            "accept\n",
            "acceptable\n",
            "acceptance\n",
            "acceptances\n",
            "accepted\n",
            "accepting\n",
            "accepts\n",
            "access\n",
            "accessibility\n",
            "accessible\n",
            "accessing\n",
            "accession\n",
            "accessories\n",
            "accident\n",
            "accidental\n",
            "accidentally\n",
            "accidents\n",
            "acclaimed\n",
            "acclimated\n",
            "acclimatized\n",
            "accommodate\n",
            "accommodations\n",
            "accomodate\n",
            "accompanied\n",
            "accompanies\n",
            "accompany\n",
            "accompanying\n",
            "accomplices\n",
            "accomplish\n",
            "accomplished\n",
            "accomplishment\n",
            "accomplishments\n",
            "accord\n",
            "accordance\n",
            "accorded\n",
            "according\n",
            "accordingly\n",
            "accords\n",
            "accosted\n",
            "account\n",
            "accountability\n",
            "accountable\n",
            "accountant\n",
            "accountants\n",
            "accounted\n",
            "accounting\n",
            "accounts\n",
            "accra\n",
            "accra's\n",
            "accrington\n",
            "accumulated\n",
            "accumulating\n",
            "accumulations\n",
            "accumulator\n",
            "accuracy\n",
            "accurate\n",
            "accurately\n",
            "accusation\n",
            "accusations\n",
            "accuse\n",
            "accused\n",
            "accuses\n",
            "accusing\n",
            "accustomed\n",
            "accuweather\n",
            "ace\n",
            "acer\n",
            "aces\n",
            "acetone\n",
            "aches\n",
            "achieve\n",
            "achieved\n",
            "achievement\n",
            "achievements\n",
            "achieves\n",
            "achieving\n",
            "achilles\n",
            "acidic\n",
            "acidity\n",
            "acids\n",
            "acitvist\n",
            "acknowledge\n",
            "acknowledged\n",
            "acknowledges\n",
            "acknowledging\n",
            "acknowledgment\n",
            "acolytes\n",
            "acquaint\n",
            "acquire\n",
            "acquired\n",
            "acquiring\n",
            "acquisition\n",
            "acquisitions\n",
            "acquits\n",
            "acquittal\n",
            "acquitted\n",
            "acre\n",
            "acreage\n",
            "acres\n",
            "acrobatically\n",
            "acronym\n",
            "acronyms\n",
            "across\n",
            "acrylic\n",
            "act\n",
            "acted\n",
            "acting\n",
            "action\n",
            "actions\n",
            "activate\n",
            "activated\n",
            "activating\n",
            "active\n",
            "actively\n",
            "activism\n",
            "activist\n",
            "activist's\n",
            "activists\n",
            "activities\n",
            "activity\n",
            "acton\n",
            "actor\n",
            "actors\n",
            "actress\n",
            "actresses\n",
            "acts\n",
            "actual\n",
            "actually\n",
            "acute\n",
            "acutely\n",
            "ad\n",
            "adailton\n",
            "adam\n",
            "adamant\n",
            "adams\n",
            "adamson\n",
            "adapt\n",
            "adaptation\n",
            "adapted\n",
            "adapting\n",
            "adaptive\n",
            "adbulmutallab's\n",
            "add\n",
            "added\n",
            "addicted\n",
            "addiction\n",
            "addictions\n",
            "addicts\n",
            "adding\n",
            "addis\n",
            "addition\n",
            "additional\n",
            "additionally\n",
            "additions\n",
            "address\n",
            "addressed\n",
            "addresses\n",
            "addressing\n",
            "adds\n",
            "adebayor\n",
            "adelboden\n",
            "aden\n",
            "adept\n",
            "adequate\n",
            "adequately\n",
            "adhd\n",
            "adhere\n",
            "adherents\n",
            "adhering\n",
            "adicts\n",
            "adil\n",
            "adjacent\n",
            "adjman\n",
            "adjourned\n",
            "adjust\n",
            "adjustable\n",
            "adjusted\n",
            "adjusting\n",
            "adjustment\n",
            "adjustments\n",
            "adler\n",
            "adm\n",
            "administered\n",
            "administering\n",
            "administers\n",
            "administration\n",
            "administration's\n",
            "administrations\n",
            "administrative\n",
            "administrator\n",
            "administrators\n",
            "admiral\n",
            "admire\n",
            "admired\n",
            "admission\n",
            "admissions\n",
            "admit\n",
            "admits\n",
            "admitted\n",
            "admitting\n",
            "admob\n",
            "admonished\n",
            "adnan\n",
            "adolescence\n",
            "adolescents\n",
            "adolf\n",
            "adolfo\n",
            "adopt\n",
            "adopted\n",
            "adopters\n",
            "adopting\n",
            "adoption\n",
            "adoptions\n",
            "adoptive\n",
            "adopts\n",
            "adp\n",
            "adrenalin\n",
            "adrian\n",
            "adriana\n",
            "adriano\n",
            "adriatic\n",
            "adrift\n",
            "ads\n",
            "adu\n",
            "adult\n",
            "adulterated\n",
            "adulthood\n",
            "adults\n",
            "aduriz\n",
            "aduriz's\n",
            "advance\n",
            "advanced\n",
            "advancement\n",
            "advances\n",
            "advancing\n",
            "advantage\n",
            "advent\n",
            "adventure\n",
            "adventures\n",
            "adventurous\n",
            "adversary\n",
            "adverse\n",
            "adversely\n",
            "adversity\n",
            "advertise\n",
            "advertised\n",
            "advertisement\n",
            "advertisements\n",
            "advertiser\n",
            "advertising\n",
            "advice\n",
            "advise\n",
            "advised\n",
            "adviser\n",
            "advisers\n",
            "advising\n",
            "advisors\n",
            "advisory\n",
            "advocacy\n",
            "advocate\n",
            "advocated\n",
            "advocates\n",
            "advocating\n",
            "ady\n",
            "aeg\n",
            "aegean\n",
            "aegis\n",
            "aek\n",
            "aena\n",
            "aerial\n",
            "aeronautical\n",
            "aeropostale\n",
            "aerospace\n",
            "afc\n",
            "afc's\n",
            "affair\n",
            "affairs\n",
            "affect\n",
            "affected\n",
            "affecting\n",
            "affection\n",
            "affectionate\n",
            "affects\n",
            "affidavit\n",
            "affiliate\n",
            "affiliate's\n",
            "affiliated\n",
            "affiliates\n",
            "affirmation\n",
            "affirmed\n",
            "afflalo's\n",
            "afflicted\n",
            "afflictions\n",
            "affluent\n",
            "afford\n",
            "affordability\n",
            "affordable\n",
            "afghan\n",
            "afghanistan\n",
            "afghanistan's\n",
            "afghans\n",
            "afinogenov\n",
            "afl\n",
            "afld\n",
            "afloat\n",
            "afmao\n",
            "afoot\n",
            "afrah\n",
            "afraid\n",
            "afresh\n",
            "africa\n",
            "africa's\n",
            "african\n",
            "africans\n",
            "afridi\n",
            "afro\n",
            "afshin\n",
            "aftab\n",
            "after\n",
            "aftermath\n",
            "afternon\n",
            "afternoon\n",
            "afternoons\n",
            "aftershock\n",
            "afterward\n",
            "afterwards\n",
            "afzaal\n",
            "ag\n",
            "again\n",
            "against\n",
            "agbonlahor\n",
            "age\n",
            "aged\n",
            "agencia\n",
            "agencies\n",
            "agency\n",
            "agency's\n",
            "agenda\n",
            "agent\n",
            "agents\n",
            "ages\n",
            "aggravate\n",
            "aggravated\n",
            "aggravating\n",
            "aggregate\n",
            "aggressive\n",
            "aggressively\n",
            "aghily\n",
            "agile\n",
            "agily\n",
            "aging\n",
            "agitated\n",
            "aglukkaq\n",
            "agnes\n",
            "agnew\n",
            "ago\n",
            "agony\n",
            "agree\n",
            "agreed\n",
            "agreeing\n",
            "agreement\n",
            "agreements\n",
            "agrees\n",
            "agricole\n",
            "agricultural\n",
            "agriculture\n",
            "aground\n",
            "agudo\n",
            "aguero\n",
            "aguila\n",
            "aguila's\n",
            "aguilar\n",
            "aguilar's\n",
            "aguilera\n",
            "aguirre\n",
            "agyenim\n",
            "ah\n",
            "ahead\n",
            "ahern\n",
            "ahh\n",
            "ahl\n",
            "ahlberg\n",
            "ahmad\n",
            "ahmadi\n",
            "ahmadinejad\n",
            "ahmadinejad's\n",
            "ahmed\n",
            "ahmet\n",
            "ahonen\n",
            "ahram\n",
            "ai\n",
            "aia\n",
            "aid\n",
            "aidan\n",
            "aide\n",
            "aided\n",
            "aides\n",
            "aiding\n",
            "aids\n",
            "aig\n",
            "aig's\n",
            "aijaz\n",
            "aiken\n",
            "ailing\n",
            "ailment\n",
            "aim\n",
            "aimed\n",
            "aiming\n",
            "aims\n",
            "ainan\n",
            "ainan's\n",
            "aino\n",
            "air\n",
            "airasia\n",
            "airasia's\n",
            "airborne\n",
            "airbus\n",
            "aircraft\n",
            "aircraft's\n",
            "airdrie\n",
            "aired\n",
            "aires\n",
            "airfield\n",
            "airlift\n",
            "airlifted\n",
            "airline\n",
            "airline's\n",
            "airliner\n",
            "airliners\n",
            "airlines\n",
            "airman's\n",
            "airmen\n",
            "airplane\n",
            "airplanes\n",
            "airport\n",
            "airport's\n",
            "airports\n",
            "airs\n",
            "airspace\n",
            "airstrike\n",
            "airstrikes\n",
            "airstrip\n",
            "airtime\n",
            "airtran\n",
            "airwaves\n",
            "airways\n",
            "airy\n",
            "aisle\n",
            "aisles\n",
            "ait\n",
            "aitor\n",
            "aizhixing\n",
            "aj\n",
            "aji\n",
            "ajmal\n",
            "ak\n",
            "akal\n",
            "akel\n",
            "akgul\n",
            "akhgar\n"
          ]
        },
        {
          "output_type": "error",
          "ename": "KeyboardInterrupt",
          "evalue": "",
          "traceback": [
            "\u001b[0;31m---------------------------------------------------------------------------\u001b[0m",
            "\u001b[0;31mKeyboardInterrupt\u001b[0m                         Traceback (most recent call last)",
            "\u001b[0;32m<ipython-input-39-2e4a91a74579>\u001b[0m in \u001b[0;36m<cell line: 0>\u001b[0;34m()\u001b[0m\n\u001b[1;32m     12\u001b[0m \u001b[0;34m\u001b[0m\u001b[0m\n\u001b[1;32m     13\u001b[0m \u001b[0;32mfor\u001b[0m \u001b[0mterm\u001b[0m \u001b[0;32min\u001b[0m \u001b[0mgroupedterms\u001b[0m\u001b[0;34m[\u001b[0m\u001b[0;34m'term'\u001b[0m\u001b[0;34m]\u001b[0m\u001b[0;34m:\u001b[0m\u001b[0;34m\u001b[0m\u001b[0;34m\u001b[0m\u001b[0m\n\u001b[0;32m---> 14\u001b[0;31m   \u001b[0mallfiledsforterm\u001b[0m \u001b[0;34m=\u001b[0m \u001b[0mtermsdf\u001b[0m\u001b[0;34m[\u001b[0m\u001b[0mtermsdf\u001b[0m\u001b[0;34m[\u001b[0m\u001b[0;34m'term'\u001b[0m\u001b[0;34m]\u001b[0m \u001b[0;34m==\u001b[0m \u001b[0mterm\u001b[0m\u001b[0;34m]\u001b[0m\u001b[0;34m\u001b[0m\u001b[0;34m\u001b[0m\u001b[0m\n\u001b[0m\u001b[1;32m     15\u001b[0m   \u001b[0muniquedocs\u001b[0m \u001b[0;34m=\u001b[0m \u001b[0mallfiledsforterm\u001b[0m\u001b[0;34m[\u001b[0m\u001b[0;34m'id'\u001b[0m\u001b[0;34m]\u001b[0m\u001b[0;34m.\u001b[0m\u001b[0mnunique\u001b[0m\u001b[0;34m(\u001b[0m\u001b[0;34m)\u001b[0m\u001b[0;34m\u001b[0m\u001b[0;34m\u001b[0m\u001b[0m\n\u001b[1;32m     16\u001b[0m   \u001b[0mdf\u001b[0m\u001b[0;34m[\u001b[0m\u001b[0mterm\u001b[0m\u001b[0;34m]\u001b[0m \u001b[0;34m=\u001b[0m \u001b[0muniquedocs\u001b[0m\u001b[0;34m\u001b[0m\u001b[0;34m\u001b[0m\u001b[0m\n",
            "\u001b[0;32m/usr/local/lib/python3.11/dist-packages/pandas/core/ops/common.py\u001b[0m in \u001b[0;36mnew_method\u001b[0;34m(self, other)\u001b[0m\n\u001b[1;32m     74\u001b[0m         \u001b[0mother\u001b[0m \u001b[0;34m=\u001b[0m \u001b[0mitem_from_zerodim\u001b[0m\u001b[0;34m(\u001b[0m\u001b[0mother\u001b[0m\u001b[0;34m)\u001b[0m\u001b[0;34m\u001b[0m\u001b[0;34m\u001b[0m\u001b[0m\n\u001b[1;32m     75\u001b[0m \u001b[0;34m\u001b[0m\u001b[0m\n\u001b[0;32m---> 76\u001b[0;31m         \u001b[0;32mreturn\u001b[0m \u001b[0mmethod\u001b[0m\u001b[0;34m(\u001b[0m\u001b[0mself\u001b[0m\u001b[0;34m,\u001b[0m \u001b[0mother\u001b[0m\u001b[0;34m)\u001b[0m\u001b[0;34m\u001b[0m\u001b[0;34m\u001b[0m\u001b[0m\n\u001b[0m\u001b[1;32m     77\u001b[0m \u001b[0;34m\u001b[0m\u001b[0m\n\u001b[1;32m     78\u001b[0m     \u001b[0;32mreturn\u001b[0m \u001b[0mnew_method\u001b[0m\u001b[0;34m\u001b[0m\u001b[0;34m\u001b[0m\u001b[0m\n",
            "\u001b[0;32m/usr/local/lib/python3.11/dist-packages/pandas/core/arraylike.py\u001b[0m in \u001b[0;36m__eq__\u001b[0;34m(self, other)\u001b[0m\n\u001b[1;32m     38\u001b[0m     \u001b[0;34m@\u001b[0m\u001b[0munpack_zerodim_and_defer\u001b[0m\u001b[0;34m(\u001b[0m\u001b[0;34m\"__eq__\"\u001b[0m\u001b[0;34m)\u001b[0m\u001b[0;34m\u001b[0m\u001b[0;34m\u001b[0m\u001b[0m\n\u001b[1;32m     39\u001b[0m     \u001b[0;32mdef\u001b[0m \u001b[0m__eq__\u001b[0m\u001b[0;34m(\u001b[0m\u001b[0mself\u001b[0m\u001b[0;34m,\u001b[0m \u001b[0mother\u001b[0m\u001b[0;34m)\u001b[0m\u001b[0;34m:\u001b[0m\u001b[0;34m\u001b[0m\u001b[0;34m\u001b[0m\u001b[0m\n\u001b[0;32m---> 40\u001b[0;31m         \u001b[0;32mreturn\u001b[0m \u001b[0mself\u001b[0m\u001b[0;34m.\u001b[0m\u001b[0m_cmp_method\u001b[0m\u001b[0;34m(\u001b[0m\u001b[0mother\u001b[0m\u001b[0;34m,\u001b[0m \u001b[0moperator\u001b[0m\u001b[0;34m.\u001b[0m\u001b[0meq\u001b[0m\u001b[0;34m)\u001b[0m\u001b[0;34m\u001b[0m\u001b[0;34m\u001b[0m\u001b[0m\n\u001b[0m\u001b[1;32m     41\u001b[0m \u001b[0;34m\u001b[0m\u001b[0m\n\u001b[1;32m     42\u001b[0m     \u001b[0;34m@\u001b[0m\u001b[0munpack_zerodim_and_defer\u001b[0m\u001b[0;34m(\u001b[0m\u001b[0;34m\"__ne__\"\u001b[0m\u001b[0;34m)\u001b[0m\u001b[0;34m\u001b[0m\u001b[0;34m\u001b[0m\u001b[0m\n",
            "\u001b[0;32m/usr/local/lib/python3.11/dist-packages/pandas/core/series.py\u001b[0m in \u001b[0;36m_cmp_method\u001b[0;34m(self, other, op)\u001b[0m\n\u001b[1;32m   6117\u001b[0m         \u001b[0mrvalues\u001b[0m \u001b[0;34m=\u001b[0m \u001b[0mextract_array\u001b[0m\u001b[0;34m(\u001b[0m\u001b[0mother\u001b[0m\u001b[0;34m,\u001b[0m \u001b[0mextract_numpy\u001b[0m\u001b[0;34m=\u001b[0m\u001b[0;32mTrue\u001b[0m\u001b[0;34m,\u001b[0m \u001b[0mextract_range\u001b[0m\u001b[0;34m=\u001b[0m\u001b[0;32mTrue\u001b[0m\u001b[0;34m)\u001b[0m\u001b[0;34m\u001b[0m\u001b[0;34m\u001b[0m\u001b[0m\n\u001b[1;32m   6118\u001b[0m \u001b[0;34m\u001b[0m\u001b[0m\n\u001b[0;32m-> 6119\u001b[0;31m         \u001b[0mres_values\u001b[0m \u001b[0;34m=\u001b[0m \u001b[0mops\u001b[0m\u001b[0;34m.\u001b[0m\u001b[0mcomparison_op\u001b[0m\u001b[0;34m(\u001b[0m\u001b[0mlvalues\u001b[0m\u001b[0;34m,\u001b[0m \u001b[0mrvalues\u001b[0m\u001b[0;34m,\u001b[0m \u001b[0mop\u001b[0m\u001b[0;34m)\u001b[0m\u001b[0;34m\u001b[0m\u001b[0;34m\u001b[0m\u001b[0m\n\u001b[0m\u001b[1;32m   6120\u001b[0m \u001b[0;34m\u001b[0m\u001b[0m\n\u001b[1;32m   6121\u001b[0m         \u001b[0;32mreturn\u001b[0m \u001b[0mself\u001b[0m\u001b[0;34m.\u001b[0m\u001b[0m_construct_result\u001b[0m\u001b[0;34m(\u001b[0m\u001b[0mres_values\u001b[0m\u001b[0;34m,\u001b[0m \u001b[0mname\u001b[0m\u001b[0;34m=\u001b[0m\u001b[0mres_name\u001b[0m\u001b[0;34m)\u001b[0m\u001b[0;34m\u001b[0m\u001b[0;34m\u001b[0m\u001b[0m\n",
            "\u001b[0;32m/usr/local/lib/python3.11/dist-packages/pandas/core/ops/array_ops.py\u001b[0m in \u001b[0;36mcomparison_op\u001b[0;34m(left, right, op)\u001b[0m\n\u001b[1;32m    342\u001b[0m \u001b[0;34m\u001b[0m\u001b[0m\n\u001b[1;32m    343\u001b[0m     \u001b[0;32melif\u001b[0m \u001b[0mlvalues\u001b[0m\u001b[0;34m.\u001b[0m\u001b[0mdtype\u001b[0m \u001b[0;34m==\u001b[0m \u001b[0mobject\u001b[0m \u001b[0;32mor\u001b[0m \u001b[0misinstance\u001b[0m\u001b[0;34m(\u001b[0m\u001b[0mrvalues\u001b[0m\u001b[0;34m,\u001b[0m \u001b[0mstr\u001b[0m\u001b[0;34m)\u001b[0m\u001b[0;34m:\u001b[0m\u001b[0;34m\u001b[0m\u001b[0;34m\u001b[0m\u001b[0m\n\u001b[0;32m--> 344\u001b[0;31m         \u001b[0mres_values\u001b[0m \u001b[0;34m=\u001b[0m \u001b[0mcomp_method_OBJECT_ARRAY\u001b[0m\u001b[0;34m(\u001b[0m\u001b[0mop\u001b[0m\u001b[0;34m,\u001b[0m \u001b[0mlvalues\u001b[0m\u001b[0;34m,\u001b[0m \u001b[0mrvalues\u001b[0m\u001b[0;34m)\u001b[0m\u001b[0;34m\u001b[0m\u001b[0;34m\u001b[0m\u001b[0m\n\u001b[0m\u001b[1;32m    345\u001b[0m \u001b[0;34m\u001b[0m\u001b[0m\n\u001b[1;32m    346\u001b[0m     \u001b[0;32melse\u001b[0m\u001b[0;34m:\u001b[0m\u001b[0;34m\u001b[0m\u001b[0;34m\u001b[0m\u001b[0m\n",
            "\u001b[0;32m/usr/local/lib/python3.11/dist-packages/pandas/core/ops/array_ops.py\u001b[0m in \u001b[0;36mcomp_method_OBJECT_ARRAY\u001b[0;34m(op, x, y)\u001b[0m\n\u001b[1;32m    128\u001b[0m     \u001b[0;32melse\u001b[0m\u001b[0;34m:\u001b[0m\u001b[0;34m\u001b[0m\u001b[0;34m\u001b[0m\u001b[0m\n\u001b[1;32m    129\u001b[0m         \u001b[0mresult\u001b[0m \u001b[0;34m=\u001b[0m \u001b[0mlibops\u001b[0m\u001b[0;34m.\u001b[0m\u001b[0mscalar_compare\u001b[0m\u001b[0;34m(\u001b[0m\u001b[0mx\u001b[0m\u001b[0;34m.\u001b[0m\u001b[0mravel\u001b[0m\u001b[0;34m(\u001b[0m\u001b[0;34m)\u001b[0m\u001b[0;34m,\u001b[0m \u001b[0my\u001b[0m\u001b[0;34m,\u001b[0m \u001b[0mop\u001b[0m\u001b[0;34m)\u001b[0m\u001b[0;34m\u001b[0m\u001b[0;34m\u001b[0m\u001b[0m\n\u001b[0;32m--> 130\u001b[0;31m     \u001b[0;32mreturn\u001b[0m \u001b[0mresult\u001b[0m\u001b[0;34m.\u001b[0m\u001b[0mreshape\u001b[0m\u001b[0;34m(\u001b[0m\u001b[0mx\u001b[0m\u001b[0;34m.\u001b[0m\u001b[0mshape\u001b[0m\u001b[0;34m)\u001b[0m\u001b[0;34m\u001b[0m\u001b[0;34m\u001b[0m\u001b[0m\n\u001b[0m\u001b[1;32m    131\u001b[0m \u001b[0;34m\u001b[0m\u001b[0m\n\u001b[1;32m    132\u001b[0m \u001b[0;34m\u001b[0m\u001b[0m\n",
            "\u001b[0;31mKeyboardInterrupt\u001b[0m: "
          ]
        }
      ]
    },
    {
      "cell_type": "code",
      "metadata": {
        "id": "_XMPAKYNCq6Y"
      },
      "source": [
        "# TODO: Print the relative document frequency of 'the',\n",
        "# i.e., the number of documents that contain 'the' divided by N.\n",
        "relativedocumentfrequency = df['the']/N"
      ],
      "execution_count": null,
      "outputs": []
    },
    {
      "cell_type": "markdown",
      "metadata": {
        "id": "ohFmwtc7Chy3"
      },
      "source": [
        "Empricially, we usually see better retrieval results if we rescale term frequency (within documents) and inverse document frequency (across documents) with the log function. Let the `tfidf` of term _t_ in document _d_ be:\n",
        "```\n",
        "tfidf(t, d) = log(count(t, d) + 1) * log(N / df(t))\n",
        "```\n",
        "\n",
        "Later in the course, we will show a probabilistic derivation of this quantity based on smoothing language models."
      ]
    },
    {
      "cell_type": "code",
      "metadata": {
        "id": "Fmyj4v_uHdyo"
      },
      "source": [
        "# TODO: Compute the tf-idf value for each term in each document.\n",
        "# Take the raw term data and add a tfidf field to each record.\n",
        "tfidf_terms = None"
      ],
      "execution_count": null,
      "outputs": []
    },
    {
      "cell_type": "code",
      "metadata": {
        "id": "NlXQmMO9HxH0"
      },
      "source": [
        "# TODO: Print the 20 term-document pairs with the highest tf-idf values."
      ],
      "execution_count": null,
      "outputs": []
    },
    {
      "cell_type": "markdown",
      "metadata": {
        "id": "f61xitl1IApl"
      },
      "source": [
        "## Plotting Term Distributions\n",
        "\n",
        "Besides frequencies and tf-idf values within documents, it is often helpful to look at the distrubitions of word frequencies in the whole collection. In class, we talk about the Zipf distribution of word rank versus frequency and Heaps' Law relating the number of distinct words to the number of tokens.\n",
        "\n",
        "We might examine these distributions to see, for instance, if an unexpectedly large number of very rare terms occurs, which might indicate noise added to our data."
      ]
    },
    {
      "cell_type": "code",
      "metadata": {
        "id": "fsM5k1_5Jj7Y"
      },
      "source": [
        "# TODO: Compute a list of the distinct words in this collection and sort it in descending order of frequency.\n",
        "# Thus frequency[0] should contain the word \"the\" and the count 62216.\n",
        "frequency = []"
      ],
      "execution_count": null,
      "outputs": []
    },
    {
      "cell_type": "code",
      "metadata": {
        "id": "hdtc14EULkxS"
      },
      "source": [
        "# TODO: Plot a graph of the log of the rank (starting at 1) on the x-axis,\n",
        "# against the log of the frequency on the y-axis. You may use the matplotlib\n",
        "# or other library."
      ],
      "execution_count": null,
      "outputs": []
    },
    {
      "cell_type": "code",
      "source": [
        "# TODO: Compute the number of tokens in the corpus.\n",
        "# Remember to count each occurrence of each word. For instance, the 62,216\n",
        "# instances of \"the\" will all count here.\n",
        "ntokens = 0"
      ],
      "metadata": {
        "id": "-WdHjFCSC7WC"
      },
      "execution_count": null,
      "outputs": []
    },
    {
      "cell_type": "code",
      "source": [
        "# TODO: Compute the proportion of tokens made up by the top 10 most\n",
        "# frequent words."
      ],
      "metadata": {
        "id": "V_7wOcqKAz9m"
      },
      "execution_count": null,
      "outputs": []
    },
    {
      "cell_type": "code",
      "source": [
        "# TODO: Compute the proportion of tokens made up by the words that occur\n",
        "# exactly once in this collection."
      ],
      "metadata": {
        "id": "uF-1VxcZBXMM"
      },
      "execution_count": null,
      "outputs": []
    },
    {
      "cell_type": "markdown",
      "metadata": {
        "id": "GdiUXaXZMFqT"
      },
      "source": [
        "## Acquiring New Documents (for CS6200)\n",
        "\n",
        "For this assignment so far, you've worked with data that's already been extracted, tokenized, and counted. In this final section, you'll explore acquiring new data.\n",
        "\n",
        "One common way of acquiring data is through application programming interfaces (APIs) to various databases. The Library of Congress's [_Chronicling America_](https://chroniclingamerica.loc.gov/) site aggregates digitized US newspapers from the past two hundred years, such as the [_Seattle Star_](https://chroniclingamerica.loc.gov/lccn/sn87093407/1925-01-17/ed-1/seq-1/) from 100 years ago.\n",
        "\n",
        "You can use [the API](https://chroniclingamerica.loc.gov/about/api/) to retrieve JSON data listing all issues of the _Seattle Star_: https://chroniclingamerica.loc.gov/lccn/sn87093407.json\n",
        "\n",
        "Note the list in the `issues` field. For example, here is the record for the January 17, 1925, issue: https://chroniclingamerica.loc.gov/lccn/sn87093407/1925-01-17/ed-1.json\n",
        "\n",
        "In that issue record, you'll see records for each page, e.g.: https://chroniclingamerica.loc.gov/lccn/sn87093407/1925-01-17/ed-1/seq-1.json\n",
        "\n",
        "And inside that page record, you'll see links to data about that page in various data formats, such as JPEG, PDF, and plain text, which is what we want here: https://chroniclingamerica.loc.gov/lccn/sn87093407/1925-01-17/ed-1/seq-1/ocr.txt\n",
        "\n",
        "This plain text was transcribed from the old page images using optical character recognition (OCR) models, and so contains errors.\n",
        "\n",
        "Your task is to acquire and analyze the issues of the _Seattle Star_ from the month of January, 1925, i.e., the issues with a date field that starts with `1925-01`. This should be about the same amount of data as the million words from the Associated Press you analyzed in the last section."
      ]
    },
    {
      "cell_type": "markdown",
      "metadata": {
        "id": "EGPVnXv2O6AN"
      },
      "source": [
        "**TODO**: Write code that calls the _Chronicling America_ API to download and extract the text from the _Seattle Star_ from January 1925. You can use the `json` library from above and any other libraries you wish to fetch data from URLs. As you would when working with any production API, you may need to limit your rate of requests."
      ]
    },
    {
      "cell_type": "code",
      "metadata": {
        "id": "VeDDz1SaPLik"
      },
      "source": [
        "# TODO: Data acquisition code here."
      ],
      "execution_count": null,
      "outputs": []
    },
    {
      "cell_type": "markdown",
      "metadata": {
        "id": "L1-oRTixPKbw"
      },
      "source": [
        "**TODO**: Write code to tokenize the text and count the resulting terms in each document. Since this data comes from automatically transcribing printed pages, some words may be hyphenated across line breaks. There is more than one right way to tokenize this data, so add comments to your code documenting your choices."
      ]
    },
    {
      "cell_type": "code",
      "metadata": {
        "id": "Ydsh0h74Pnlh"
      },
      "source": [
        "# TODO: Tokenization code here."
      ],
      "execution_count": null,
      "outputs": []
    },
    {
      "cell_type": "markdown",
      "metadata": {
        "id": "D-boFCotQ4Ur"
      },
      "source": [
        "**TODO**: Plot a graph of the log rank against log frequency for your collection, as you did for the sample collection above."
      ]
    },
    {
      "cell_type": "code",
      "source": [
        "# TODO: Plotting code here."
      ],
      "metadata": {
        "id": "-Z35asgBjiqO"
      },
      "execution_count": null,
      "outputs": []
    },
    {
      "cell_type": "markdown",
      "source": [
        "**TODO**: What do you observe about the differences between the distributions of the Associated Press and Seattle Star collections? In this text box, give some possible reasons for these differences."
      ],
      "metadata": {
        "id": "D5B-h__CjpvI"
      }
    }
  ]
}